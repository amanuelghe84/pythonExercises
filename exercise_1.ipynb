{
 "cells": [
  {
   "cell_type": "markdown",
   "metadata": {},
   "source": [
    "    1. Define two variables, x and y, with values 5 and 10.\n",
    "\n",
    "   Perform the following operations and print the results:  \n",
    "   \n",
    "   a. Sum of x and y  \n",
    "   b. Difference of y and x  \n",
    "   c. Product of x and y  \n",
    "   d. Quotient of y by x  "
   ]
  },
  {
   "cell_type": "code",
   "execution_count": null,
   "metadata": {},
   "outputs": [
    {
     "data": {
      "text/plain": [
       "15"
      ]
     },
     "metadata": {},
     "output_type": "display_data"
    },
    {
     "data": {
      "text/plain": [
       "5"
      ]
     },
     "metadata": {},
     "output_type": "display_data"
    },
    {
     "data": {
      "text/plain": [
       "50"
      ]
     },
     "metadata": {},
     "output_type": "display_data"
    },
    {
     "data": {
      "text/plain": [
       "2.0"
      ]
     },
     "metadata": {},
     "output_type": "display_data"
    }
   ],
   "source": [
    "# a. Sum of x and y\n",
    "x = 5\n",
    "y = 10\n",
    "display(x + y)\n",
    "\n",
    "# b. Difference of y and x \n",
    "display(y - x)\n",
    "\n",
    "# c. Product of x and y  \n",
    "display(x * y)\n",
    "\n",
    "# d. Quotient of y by x\n",
    "display(y / x)"
   ]
  },
  {
   "cell_type": "markdown",
   "metadata": {},
   "source": [
    "     2. Define a list of fruits containing \"apple\", \"banana\", and \"cherry\".\n",
    "       a. Add \"orange\" to the list.  \n",
    "       b. Remove \"banana\" from the list.  \n",
    "       c. Print the first and last elements of the list.  "
   ]
  },
  {
   "cell_type": "code",
   "execution_count": 14,
   "metadata": {},
   "outputs": [
    {
     "data": {
      "text/plain": [
       "['Apple', 'Banana', 'Cherry', 'Orange']"
      ]
     },
     "metadata": {},
     "output_type": "display_data"
    },
    {
     "data": {
      "text/plain": [
       "['Apple', 'Cherry', 'Orange']"
      ]
     },
     "metadata": {},
     "output_type": "display_data"
    },
    {
     "data": {
      "text/plain": [
       "'Apple'"
      ]
     },
     "metadata": {},
     "output_type": "display_data"
    },
    {
     "data": {
      "text/plain": [
       "'Orange'"
      ]
     },
     "metadata": {},
     "output_type": "display_data"
    }
   ],
   "source": [
    "list_of_fruits = [\"Apple\", \"Banana\", \"Cherry\"]\n",
    "\n",
    "# a. Add \"orange\" to the list. \n",
    "\n",
    "list_of_fruits.append(\"Orange\")\n",
    "\n",
    "display(list_of_fruits)\n",
    "\n",
    "#   b. Remove \"banana\" from the list.\n",
    "\n",
    "# list_of_fruits.remove(\"Banana\")\n",
    "\n",
    "list_of_fruits.pop(1) \n",
    "\n",
    "display(list_of_fruits)\n",
    "\n",
    "# c. Print the first and last elements of the list.\n",
    "\n",
    "display(list_of_fruits[0])\n",
    "\n",
    "display(list_of_fruits[-1])\n",
    " "
   ]
  },
  {
   "cell_type": "markdown",
   "metadata": {},
   "source": [
    "     3. Define a set of numbers containing 1, 2, 3, 4, and 5.\n",
    "      a. Add the number 6 to the set.  \n",
    "      b. Remove the number 3 from the set.  \n",
    "      c. Check if the numbers 5 and 7 are in the set, and print the results.  "
   ]
  },
  {
   "cell_type": "code",
   "execution_count": 3,
   "metadata": {},
   "outputs": [
    {
     "data": {
      "text/plain": [
       "{1, 2, 3, 4, 5}"
      ]
     },
     "metadata": {},
     "output_type": "display_data"
    },
    {
     "data": {
      "text/plain": [
       "{1, 2, 3, 4, 5, 6}"
      ]
     },
     "metadata": {},
     "output_type": "display_data"
    },
    {
     "data": {
      "text/plain": [
       "{1, 2, 4, 5, 6}"
      ]
     },
     "metadata": {},
     "output_type": "display_data"
    },
    {
     "data": {
      "text/plain": [
       "'7 is not in set'"
      ]
     },
     "metadata": {},
     "output_type": "display_data"
    },
    {
     "data": {
      "text/plain": [
       "'5 is in set'"
      ]
     },
     "metadata": {},
     "output_type": "display_data"
    }
   ],
   "source": [
    "set_of_numbers = {1, 2, 3, 4, 5}\n",
    "\n",
    "display(set_of_numbers)\n",
    "# a. Add the number 6 to the set.\n",
    "\n",
    "set_of_numbers.add(6)\n",
    "\n",
    "display(set_of_numbers)\n",
    "\n",
    "#  b. Remove the number 3 from the set. \n",
    "\n",
    "set_of_numbers.remove(3)\n",
    "\n",
    "display(set_of_numbers)\n",
    "\n",
    "#  c. Check if the numbers 5 and 7 are in the set, and print the results\n",
    "\n",
    "num_7_is_in_set = 7 in set_of_numbers\n",
    "message_one = \"7 is in set\" if num_7_is_in_set else \"7 is not in set\"\n",
    "\n",
    "display(message_one)\n",
    "\n",
    "num_5_is_in_set = 5 in set_of_numbers\n",
    "message_two = \"5 is in set\" if num_5_is_in_set else \"5 is not in set\"\n",
    "\n",
    "display(message_two)\n"
   ]
  },
  {
   "cell_type": "markdown",
   "metadata": {},
   "source": [
    "    4. Define a tuple representing coordinates (10.5, 20.7).  \n",
    "      a. Print the x (first) and y (second) coordinates separately.  \n"
   ]
  },
  {
   "cell_type": "code",
   "execution_count": 26,
   "metadata": {},
   "outputs": [
    {
     "data": {
      "text/plain": [
       "10.5"
      ]
     },
     "metadata": {},
     "output_type": "display_data"
    },
    {
     "data": {
      "text/plain": [
       "20.7"
      ]
     },
     "metadata": {},
     "output_type": "display_data"
    }
   ],
   "source": [
    "coordinates = (10.5, 20.7)\n",
    "\n",
    "x , y = coordinates\n",
    "\n",
    "display(x)\n",
    "display(y)"
   ]
  },
  {
   "cell_type": "markdown",
   "metadata": {},
   "source": [
    "    5. Define a dictionary of student grades, where:\n",
    "     - \"Alice\" has a grade of 85  \n",
    "     - \"Bob\" has a grade of 90  \n",
    "     - \"Charlie\" has a grade of 78  \n",
    "       a. Add a new student \"David\" with a grade of 88.  \n",
    "       b. Update Alice's grade to 95.  \n",
    "       c. Print Bob's grade.  "
   ]
  },
  {
   "cell_type": "code",
   "execution_count": 86,
   "metadata": {},
   "outputs": [
    {
     "data": {
      "text/plain": [
       "{'Alice': 85, 'Bob': 90, 'Charlie': 78}"
      ]
     },
     "metadata": {},
     "output_type": "display_data"
    },
    {
     "data": {
      "text/plain": [
       "{'Alice': 85, 'Bob': 90, 'Charlie': 78, 'David': 88}"
      ]
     },
     "metadata": {},
     "output_type": "display_data"
    },
    {
     "data": {
      "text/plain": [
       "{'Alice': 95, 'Bob': 90, 'Charlie': 78, 'David': 88}"
      ]
     },
     "metadata": {},
     "output_type": "display_data"
    },
    {
     "data": {
      "text/plain": [
       "90"
      ]
     },
     "metadata": {},
     "output_type": "display_data"
    }
   ],
   "source": [
    "grades = {\"Alice\": 85, \"Bob\": 90, \"Charlie\": 78}\n",
    "\n",
    "display(grades)\n",
    "\n",
    " # a. Add a new student \"David\" with a grade of 88.\n",
    "\n",
    "grades[\"David\"]= 88\n",
    "\n",
    "\n",
    "\n",
    "display(grades)\n",
    "  \n",
    " # b. Update Alice's grade to 95. \n",
    "\n",
    "grades[\"Alice\"] = 95\n",
    "\n",
    "display(grades)\n",
    "\n",
    " # c. Print Bob's grade. \n",
    "\n",
    "grade_bob = grades[\"Bob\"]\n",
    "\n",
    "display(grade_bob)\n",
    "\n",
    "\n"
   ]
  },
  {
   "cell_type": "code",
   "execution_count": 33,
   "metadata": {},
   "outputs": [
    {
     "data": {
      "text/plain": [
       "['Alice', 'Bob', 'Charlie', 'David']"
      ]
     },
     "metadata": {},
     "output_type": "display_data"
    },
    {
     "data": {
      "text/plain": [
       "[95, 90, 78, 88]"
      ]
     },
     "metadata": {},
     "output_type": "display_data"
    }
   ],
   "source": [
    "\n",
    "grades = {'Alice': 95, 'Bob': 90, 'Charlie': 78, 'David': 88}\n",
    "\n",
    "#for key, value in zip(keys, values):\n",
    "\n",
    "key = list(grades.keys())\n",
    "\n",
    "display(key)\n",
    "\n",
    "value = list(grades.values())\n",
    "\n",
    "display(value)\n",
    "\n",
    "# for key, value in zip(keys, values):\n",
    "\n",
    "    # print(key, value)\n",
    "\n",
    "# for key, value in grades.items():\n",
    "\n",
    "#     print(f\"{key}: {value}\")\n"
   ]
  },
  {
   "cell_type": "markdown",
   "metadata": {},
   "source": [
    "     6. Define a variable called `age` with a value of 18.  \n",
    "       a. Write an if/else statement that checks if the age is 18 or above.  \n",
    "          If true, print \"You are eligible to vote\", otherwise print \"You are not eligible to vote\".  "
   ]
  },
  {
   "cell_type": "code",
   "execution_count": 36,
   "metadata": {},
   "outputs": [
    {
     "data": {
      "text/plain": [
       "' you are eligible to vote'"
      ]
     },
     "metadata": {},
     "output_type": "display_data"
    }
   ],
   "source": [
    "age = 18\n",
    "\n",
    "if age >= 18:\n",
    "\n",
    "    display(f\" you are eligible to vote\")\n",
    "\n",
    "else:\n",
    "\n",
    "    display(f\"you are not eligible to vote\")\n"
   ]
  },
  {
   "cell_type": "markdown",
   "metadata": {},
   "source": [
    "    7. Define a list of fruits: [\"apple\", \"orange\", \"grape\"].  \n",
    "     a. Use a `for` loop to print each fruit in the list.  "
   ]
  },
  {
   "cell_type": "code",
   "execution_count": 43,
   "metadata": {},
   "outputs": [
    {
     "data": {
      "text/plain": [
       "'apple'"
      ]
     },
     "metadata": {},
     "output_type": "display_data"
    },
    {
     "data": {
      "text/plain": [
       "'orange'"
      ]
     },
     "metadata": {},
     "output_type": "display_data"
    },
    {
     "data": {
      "text/plain": [
       "'grape'"
      ]
     },
     "metadata": {},
     "output_type": "display_data"
    }
   ],
   "source": [
    "fruits = [\"apple\", \"orange\", \"grape\"]\n",
    "\n",
    "for fruit in fruits:\n",
    "    \n",
    "    display(fruit)\n",
    "\n",
    "  "
   ]
  },
  {
   "cell_type": "markdown",
   "metadata": {},
   "source": [
    "    8. Define a variable `count` with a value of 5.  \n",
    "      a. Use a `while` loop to print a countdown from 5 to 1.  \n"
   ]
  },
  {
   "cell_type": "code",
   "execution_count": 46,
   "metadata": {},
   "outputs": [
    {
     "data": {
      "text/plain": [
       "5"
      ]
     },
     "metadata": {},
     "output_type": "display_data"
    },
    {
     "data": {
      "text/plain": [
       "4"
      ]
     },
     "metadata": {},
     "output_type": "display_data"
    },
    {
     "data": {
      "text/plain": [
       "3"
      ]
     },
     "metadata": {},
     "output_type": "display_data"
    },
    {
     "data": {
      "text/plain": [
       "2"
      ]
     },
     "metadata": {},
     "output_type": "display_data"
    },
    {
     "data": {
      "text/plain": [
       "1"
      ]
     },
     "metadata": {},
     "output_type": "display_data"
    }
   ],
   "source": [
    "count = 5\n",
    "\n",
    "while count > 0:\n",
    "    display(count)\n",
    "    count-=1\n"
   ]
  },
  {
   "cell_type": "markdown",
   "metadata": {},
   "source": [
    "    9. Challenge: Combine lists, sets, dictionaries, and loops.\n",
    "      a. Define a list of numbers from 1 to 10.  \n",
    "      b. Create a set of even numbers from the list using a `for` loop or comprehension.  \n",
    "      c. Create a dictionary that maps each even number to its square.  \n",
    "      d. Print the set of even numbers and the dictionary.  \n"
   ]
  },
  {
   "cell_type": "code",
   "execution_count": 57,
   "metadata": {},
   "outputs": [
    {
     "data": {
      "text/plain": [
       "[1, 2, 3, 4, 5, 6, 7, 8, 9, 10]"
      ]
     },
     "metadata": {},
     "output_type": "display_data"
    },
    {
     "data": {
      "text/plain": [
       "{2, 4, 6, 8, 10}"
      ]
     },
     "metadata": {},
     "output_type": "display_data"
    },
    {
     "data": {
      "text/plain": [
       "{2: 4, 4: 16, 6: 36, 8: 64, 10: 100}"
      ]
     },
     "metadata": {},
     "output_type": "display_data"
    },
    {
     "data": {
      "text/plain": [
       "{2, 4, 6, 8, 10}"
      ]
     },
     "metadata": {},
     "output_type": "display_data"
    },
    {
     "data": {
      "text/plain": [
       "{2: 4, 4: 16, 6: 36, 8: 64, 10: 100}"
      ]
     },
     "metadata": {},
     "output_type": "display_data"
    }
   ],
   "source": [
    "\n",
    "# a. Define a list of numbers from 1 to 10.\n",
    "\n",
    "numbers = [1, 2, 3, 4, 5, 6, 7, 8, 9, 10]\n",
    "\n",
    "display(numbers)\n",
    "\n",
    "# b. Create a set of even numbers from the list using a `for` loop or comprehension. \n",
    "\n",
    "even_numbers = set()\n",
    "\n",
    "for number in numbers:\n",
    "   if number % 2 == 0:\n",
    "      even_numbers.add(number)\n",
    "\n",
    "display(even_numbers)\n",
    "\n",
    "#  c. Create a dictionary that maps each even number to its square.\n",
    "\n",
    "even_numbers_dict = {}\n",
    "\n",
    "for number in numbers:\n",
    "    if number % 2 == 0:\n",
    "        even_numbers_dict[number] = number ** 2\n",
    "\n",
    "display(even_numbers_dict)   \n",
    "\n",
    "   \n",
    "# d. Print the set of even numbers and the dictionary.\n",
    "\n",
    "display(even_numbers)\n",
    "\n",
    "display(even_numbers_dict)\n",
    "\n",
    "# even_numbers = list(filter(lambda x: x % 2 == 0, numbers))\n",
    "# squared = list(map(lambda x: x**2, numbers))\n",
    "\n",
    "\n"
   ]
  },
  {
   "cell_type": "markdown",
   "metadata": {},
   "source": [
    "    10. Conversion between List, Set, and Tuple  \n",
    "      a. Convert the list of fruits to a set and print the result.  \n",
    "      b. Convert the set of even numbers to a tuple and print the result.  \n",
    "      c. Convert the tuple of coordinates to a list and print the result.  \n",
    "\n",
    "        - Conversion between list, set, and tuple examples:  \n",
    "        - fruits -> set  \n",
    "        - even_numbers (from challenge) -> tuple  \n",
    "        - coordinates (tuple) -> list  \n"
   ]
  },
  {
   "cell_type": "code",
   "execution_count": 64,
   "metadata": {},
   "outputs": [
    {
     "data": {
      "text/plain": [
       "{'apple', 'grape', 'orange'}"
      ]
     },
     "metadata": {},
     "output_type": "display_data"
    },
    {
     "data": {
      "text/plain": [
       "(2, 4, 6, 8, 10)"
      ]
     },
     "metadata": {},
     "output_type": "display_data"
    },
    {
     "data": {
      "text/plain": [
       "[10.5, 20.7]"
      ]
     },
     "metadata": {},
     "output_type": "display_data"
    }
   ],
   "source": [
    "#  a. Convert the list of fruits to a set and print the result. \n",
    "\n",
    "fruits = set(fruits)\n",
    "\n",
    "display(fruits)\n",
    "\n",
    "# b. Convert the set of even numbers to a tuple and print the result. \n",
    "\n",
    "even_numbers = tuple(even_numbers)\n",
    "\n",
    "display(even_numbers)\n",
    "\n",
    "# c. Convert the tuple of coordinates to a list and print the result.\n",
    "\n",
    "coordinates = (10.5, 20.7)\n",
    "\n",
    "coordinates = list(coordinates)\n",
    "\n",
    "display(coordinates)\n"
   ]
  },
  {
   "cell_type": "markdown",
   "metadata": {},
   "source": [
    "    11. Dictionary Keys and Values  \n",
    "      a. Print the list of dictionary keys from the `grades` dictionary.  \n",
    "      b. Print the list of dictionary values from the `grades` dictionary.  \n",
    "      c. Loop through the dictionary and print each student name (key) and their grade (value).  \n",
    "\n",
    "       . Dictionary keys and values  \n",
    "       . grades -> keys() -> list  \n",
    "       . grades -> values() -> list  \n",
    "       . loop through dictionary  "
   ]
  },
  {
   "cell_type": "code",
   "execution_count": 89,
   "metadata": {},
   "outputs": [
    {
     "data": {
      "text/plain": [
       "dict_keys(['Alice', 'Bob', 'Charlie', 'David'])"
      ]
     },
     "metadata": {},
     "output_type": "display_data"
    },
    {
     "data": {
      "text/plain": [
       "dict_values([95, 90, 78, 88])"
      ]
     },
     "metadata": {},
     "output_type": "display_data"
    },
    {
     "data": {
      "text/plain": [
       "dict_items([('Alice', 95), ('Bob', 90), ('Charlie', 78), ('David', 88)])"
      ]
     },
     "metadata": {},
     "output_type": "display_data"
    }
   ],
   "source": [
    "\n",
    "\n",
    "# a. Print the list of dictionary keys from the `grades` dictionary.  \n",
    "\n",
    "display(grades.keys())\n",
    "\n",
    "display(grades.values())\n",
    "\n",
    "\n",
    "# b. Print the list of dictionary values from the `grades` dictionary.\n",
    "\n",
    "# c. Loop through the dictionary and print each student name (key) and their grade (value).\n",
    "\n",
    "\n",
    "display(grades.items())\n"
   ]
  }
 ],
 "metadata": {
  "kernelspec": {
   "display_name": "Python 3",
   "language": "python",
   "name": "python3"
  },
  "language_info": {
   "codemirror_mode": {
    "name": "ipython",
    "version": 3
   },
   "file_extension": ".py",
   "mimetype": "text/x-python",
   "name": "python",
   "nbconvert_exporter": "python",
   "pygments_lexer": "ipython3",
   "version": "3.13.0"
  }
 },
 "nbformat": 4,
 "nbformat_minor": 2
}
