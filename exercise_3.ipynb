{
 "cells": [
  {
   "cell_type": "markdown",
   "metadata": {},
   "source": [
    "# Exercise 3: Advanced Python Challenges (Updated)  \n",
    "\n",
    "**1. Define a function** `calculate_statistics` that takes a list of numbers and returns a dictionary containing:  \n",
    "a. The mean of the numbers.  \n",
    "b. The median of the numbers.  \n",
    "c. The mode of the numbers.  \n",
    "Use the `statistics` module for these calculations.  \n",
    "\n",
    "### Explanation  \n",
    "Mean, Median, Mode [ Averages] measures of central tendencies  \n",
    "\n",
    "What does central tendency mean  \n",
    "value that most likely describes the data or the central value of the data  \n",
    "'''\n",
    "    values = [5, 10, 15, 35, 25, 30, 20]  \n",
    "\n",
    "    mean = sum of all values / Numbers of all values  \n",
    "    \n",
    "    sum = 140 / 7 = 20  \n",
    "\n",
    "    sort ascending = [5, 10, 15, 20, 25, 30, 35]  \n",
    "\n",
    "    median = middle if odd but if even add two middle values / 2  \n",
    "\n",
    "    values = [5, 10, 15, 20, 25, 30,]  \n",
    "\n",
    "    median = (15 + 20) / 2 = 35 / 2 = 17.5  \n",
    "\n",
    "    value =  [5, 10, 15, 20, 25, 30, 35]  \n",
    "    mode = the most recurring value = \n",
    "\n",
    "\n",
    "\n",
    "'''\n",
    "\n",
    "\n",
    "\n"
   ]
  },
  {
   "cell_type": "code",
   "execution_count": 19,
   "metadata": {},
   "outputs": [
    {
     "data": {
      "text/plain": [
       "{'mean': 19.285714285714285, 'median': 20, 'mode': 30}"
      ]
     },
     "metadata": {},
     "output_type": "display_data"
    }
   ],
   "source": [
    "import statistics\n",
    "\n",
    "def calculate_statistics(some_numbers: list[int|float]) -> dict[str, float|int]:\n",
    "     return   {\n",
    "        'mean': statistics.mean(some_numbers),\n",
    "        'median': statistics.median(some_numbers),\n",
    "        'mode': statistics.mode(some_numbers)\n",
    "    }\n",
    "numbers = [5, 10, 15, 20, 25, 30, 30]\n",
    "calculate_statistics(numbers)\n",
    "\n",
    "display(calculate_statistics(numbers))"
   ]
  },
  {
   "cell_type": "markdown",
   "metadata": {},
   "source": [
    "**2.** Create a class `Rectangle` that has attributes for `width` and `height`.\n",
    "a. Define a method to calculate the area of the rectangle.\n",
    "b. Define a method to calculate the perimeter of the rectangle.\n",
    "c. Instantiate two rectangles and compare their areas."
   ]
  },
  {
   "cell_type": "code",
   "execution_count": 34,
   "metadata": {},
   "outputs": [
    {
     "name": "stdout",
     "output_type": "stream",
     "text": [
      "Area of Rectangle 1: 50\n",
      "Area of Rectangle 2: 64\n",
      "Rectangle 2 has a larger area\n"
     ]
    }
   ],
   "source": [
    "class Rectangle:\n",
    "    def __init__(self, width: float, height: float) -> None:\n",
    "        self.width = width\n",
    "        self.height = height\n",
    "\n",
    "    def calculate_area(self) -> float:\n",
    "        return self.width * self.height\n",
    "\n",
    "    def calculate_perimeter(self) -> float:\n",
    "        return 2 * (self.width + self.height)\n",
    "\n",
    "\n",
    "rect1 = Rectangle(5, 10)\n",
    "rect2 = Rectangle(8, 8)\n",
    "print(f\"Area of Rectangle 1: {rect1.calculate_area()}\")\n",
    "print(f\"Area of Rectangle 2: {rect2.calculate_area()}\")\n",
    "print(\"Rectangle 1 has a larger area\" if rect1.calculate_area() > rect2.calculate_area() else \"Rectangle 2 has a larger area\")\n",
    "\n",
    "\n"
   ]
  },
  {
   "cell_type": "markdown",
   "metadata": {},
   "source": [
    "**3**. Define a function `is_prime` that takes an integer and returns `True` if the number is prime, and `False` otherwise.  \n",
    "a. Use this function to filter a list of numbers (from 1 to 100) and return only the prime numbers.  "
   ]
  },
  {
   "cell_type": "code",
   "execution_count": 40,
   "metadata": {},
   "outputs": [
    {
     "data": {
      "text/plain": [
       "True"
      ]
     },
     "execution_count": 40,
     "metadata": {},
     "output_type": "execute_result"
    }
   ],
   "source": [
    "def is_prime(n: int) ->bool:\n",
    "    if n < 2: # check if some value is less than 2\n",
    "        return False\n",
    "    # while i != stop_value:\n",
    "    #     if some_value % i == 0:\n",
    "    #         return False\n",
    "    for i in range(2, int(n ** 0.5) + 1):\n",
    "        if n % i == 0:\n",
    "            return False\n",
    "    return True\n",
    "\n",
    "number = 7\n",
    "\n",
    "is_prime(number)"
   ]
  },
  {
   "cell_type": "markdown",
   "metadata": {},
   "source": [
    "**4. Define a function** `merge_dictionaries` that accepts two dictionaries and merges them.  \n",
    "a. If both dictionaries have the same key, sum the values of that key.  \n",
    "b. Otherwise, combine the keys and values into the resulting dictionary.  "
   ]
  },
  {
   "cell_type": "code",
   "execution_count": 41,
   "metadata": {},
   "outputs": [
    {
     "data": {
      "text/plain": [
       "{'x': 20, 'y': 30, 'z': 20, 'e': 30, 'f': 20}"
      ]
     },
     "execution_count": 41,
     "metadata": {},
     "output_type": "execute_result"
    }
   ],
   "source": [
    "def merge_dictionaries(dict_1: dict[str, float|int], dict_2: dict[str, float|int]) -> dict[str,float|int]:\n",
    "    result = dict_1.copy() #{\"x\": 10, \"y\": 30, \"z\": 20}\n",
    "    for k, v in dict_2.items():\n",
    "        if k in result:\n",
    "            result[k] +=v\n",
    "        else:\n",
    "            result[k] = v\n",
    "    return result\n",
    "dict1 = {\"x\": 10, \"y\": 30, \"z\": 20} \n",
    "dict2 = {\"x\": 10, \"e\": 30, \"f\": 20}\n",
    "\n",
    "merge_dictionaries(dict_1 = dict1, dict_2 = dict2)\n"
   ]
  },
  {
   "cell_type": "markdown",
   "metadata": {},
   "source": [
    "**5. Create a generator function** `fibonacci` that yields an infinite   sequence of Fibonacci numbers.  \n",
    "a. Use a `for` loop to print the first 20 Fibonacci numbers.   \n",
    "\n",
    "fibonacci number are number series in which each number is the sum of the two  preceding ones, starting from 0 and 1 \n",
    "\n",
    "\n",
    "\n",
    "0, 1, 1, 2, 3, 5, 8, 13, 21, 34 ....."
   ]
  },
  {
   "cell_type": "code",
   "execution_count": null,
   "metadata": {},
   "outputs": [],
   "source": [
    "\"\"\" \n",
    "name: fibonacci\n",
    "display:\n",
    "    sequence_of_fist_20_fb_numbers: \n",
    "\n",
    "\n",
    "\n",
    " yield = take out similar to return \n",
    " a, b = 0\n",
    " 1st loop\n",
    "   a, b  = 0, 1\n",
    "   a = 0 will be yielded  next => a = 0\n",
    "   then a =b,  b = a+ b =\n",
    "        a = 1 b =1\n",
    "\n",
    "\n",
    "2nd loop\n",
    "    a,b = 1, 1\n",
    "    a will be yielded next => a = 1\n",
    "    then a = b , b = a +b\n",
    "         a = 1  b = 2\n",
    "\n",
    "3rd loop\n",
    "   a,b = 1, 2\n",
    "   a will be yielded  next=> a = 1\n",
    "   then a=b, b= a+b\n",
    "   a = 2, b = 3 \n",
    "\n",
    "\n",
    "20th loop\n",
    ",,,\n",
    "\"\"\"\n",
    "def fibonacci():\n",
    "    a, b = 0, 1\n",
    "\n",
    "    while True:\n",
    "        yield a\n",
    "        a, b = b, a + b\n",
    "fib_gen = fibonacci()\n",
    "for _ in range(20):\n",
    "    display(next(fib_gen))\n"
   ]
  },
  {
   "cell_type": "code",
   "execution_count": null,
   "metadata": {},
   "outputs": [
    {
     "data": {
      "text/plain": [
       "20"
      ]
     },
     "execution_count": 22,
     "metadata": {},
     "output_type": "execute_result"
    }
   ],
   "source": [
    "def fibonacci(limit: int):\n",
    "    a, b = 0, 1\n",
    "\n",
    "    for _ in range(limit):\n",
    "        print(a)\n",
    "        a, b = b, b + a\n",
    "        \n",
    "fibonacci(20)"
   ]
  },
  {
   "cell_type": "markdown",
   "metadata": {},
   "source": [
    "**6. Define a function** `matrix_transpose` that takes a 2D list (matrix) and returns its transpose.  \n",
    "a. The function should work for any matrix size.  \n"
   ]
  },
  {
   "cell_type": "code",
   "execution_count": 25,
   "metadata": {},
   "outputs": [
    {
     "name": "stdout",
     "output_type": "stream",
     "text": [
      "[(1, 4, 7), (2, 5, 8), (3, 6, 9)]\n"
     ]
    }
   ],
   "source": [
    "matrix = [\n",
    "    [1, 2, 3],\n",
    "    [4, 5, 6],\n",
    "    [7, 8, 9]\n",
    "]\n",
    "\n",
    "# for row in zip(*matrix): #      [1, 2, 3], [4, 5, 6],  [7, 8, 9]\n",
    "#     pass\n",
    "# [[1, 4, 7], [2, 5, 8], [3, 6, 9]]\n",
    "\n",
    "def matrix_transpose(matrix: list[list[int]]) -> None:\n",
    "     return[row for row in zip(*matrix)]\n",
    "\n",
    "matrix_transposed = matrix_transpose(matrix)    \n",
    "print(matrix_transposed)"
   ]
  },
  {
   "cell_type": "markdown",
   "metadata": {},
   "source": [
    "**7. Write a function**`analyze_text` that takes a string and returns:  \n",
    "a. The number of words in the string.  \n",
    "b. The number of unique words.  \n",
    "c. A dictionary of word frequencies.  \n",
    "d. The longest word in the string.  \n"
   ]
  },
  {
   "cell_type": "code",
   "execution_count": null,
   "metadata": {},
   "outputs": [],
   "source": [
    "text = \"this is \"\n",
    "\n",
    "def analyze_text(words: [str]) -> dict[str]:\n",
    "    return[]"
   ]
  }
 ],
 "metadata": {
  "kernelspec": {
   "display_name": "Python 3",
   "language": "python",
   "name": "python3"
  },
  "language_info": {
   "codemirror_mode": {
    "name": "ipython",
    "version": 3
   },
   "file_extension": ".py",
   "mimetype": "text/x-python",
   "name": "python",
   "nbconvert_exporter": "python",
   "pygments_lexer": "ipython3",
   "version": "3.13.0"
  }
 },
 "nbformat": 4,
 "nbformat_minor": 2
}
