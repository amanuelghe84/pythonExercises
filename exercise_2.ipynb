{
 "cells": [
  {
   "cell_type": "markdown",
   "metadata": {},
   "source": [
    "  Python Code Challenge: Functions and List Comprehensions  \n",
    "\n",
    "**Challenge 1**: Define a function that takes a list of numbers and returns a new list containing only the even numbers.  \n",
    "The function should use list comprehension.  "
   ]
  },
  {
   "cell_type": "code",
   "execution_count": 2,
   "metadata": {},
   "outputs": [
    {
     "data": {
      "text/plain": [
       "[2, 4, 6, 8, 10]"
      ]
     },
     "metadata": {},
     "output_type": "display_data"
    }
   ],
   "source": [
    "\n",
    "def even_numbers(numbers: list,) -> list[int]:\n",
    "    list_of_numbers = [number for number in numbers if number % 2 == 0]\n",
    "    return list_of_numbers\n",
    "\n",
    "list_of_numbers = [1, 2, 3, 4, 5, 6, 7, 8, 9, 10]\n",
    "\n",
    "even_numbers_list = even_numbers(list_of_numbers)\n",
    "\n",
    "display(even_numbers_list)"
   ]
  },
  {
   "cell_type": "markdown",
   "metadata": {},
   "source": [
    "**Challenge 2**: Define a function that takes a list of strings and returns a new list with the strings that have more than 5 characters.  \n",
    "     Use list comprehension for filtering.  "
   ]
  },
  {
   "cell_type": "code",
   "execution_count": null,
   "metadata": {},
   "outputs": [
    {
     "data": {
      "text/plain": [
       "['banana', 'watermelon', 'orange']"
      ]
     },
     "metadata": {},
     "output_type": "display_data"
    }
   ],
   "source": [
    "\n",
    "\n",
    "def list_with_more_5_chars(fruits: list[str]) -> list[str]:\n",
    "     return [ fruit for fruit in fruits if len(fruit) > 5]\n",
    "\n",
    "fruits = [\"banana\", \"grape\", \"apple\", \"watermelon\", \"orange\"]\n",
    "\n",
    "result = list_with_more_5_chars(fruits)\n",
    "\n",
    "display(result)"
   ]
  },
  {
   "cell_type": "markdown",
   "metadata": {},
   "source": [
    "Challenge 3: Write a function that takes a list of integers and returns a list of their squares.  \n",
    "Use list comprehension to achieve this.  "
   ]
  },
  {
   "cell_type": "code",
   "execution_count": 5,
   "metadata": {},
   "outputs": [
    {
     "data": {
      "text/plain": [
       "[1, 4, 9, 16, 25, 36, 49, 64]"
      ]
     },
     "metadata": {},
     "output_type": "display_data"
    }
   ],
   "source": [
    "\n",
    "\n",
    "def square_of_list(numbers: list[int]) -> list[int]:\n",
    "     return [number**2 for number in numbers]\n",
    "\n",
    "list_numbers = [1, 2, 3, 4, 5, 6, 7, 8]\n",
    "\n",
    "result = square_of_list(numbers=list_numbers)\n",
    "\n",
    "display(result)\n"
   ]
  },
  {
   "cell_type": "markdown",
   "metadata": {},
   "source": [
    "**Challenge 4**: Write a function that accepts two lists of the same length and returns a list of tuples,  \n",
    "where each tuple contains elements from the two lists at the corresponding positions. Use list comprehension.  \n"
   ]
  },
  {
   "cell_type": "code",
   "execution_count": 7,
   "metadata": {},
   "outputs": [
    {
     "data": {
      "text/plain": [
       "[(1, 'a'), (2, 'b'), (3, 'c'), (4, 'd'), (5, 'e'), (6, 'f')]"
      ]
     },
     "metadata": {},
     "output_type": "display_data"
    }
   ],
   "source": [
    "list_1 = [1, 2, 3, 4, 5, 6]\n",
    "list_2 = [\"a\", \"b\", \"c\", \"d\", \"e\", \"f\"]\n",
    "\n",
    "def list_tuple(l1: list[int|float], l2: list[int|float]) -> list[tuple[int|float]]:\n",
    "    return [(val1, val2) for val1, val2 in zip(l1,l2)]\n",
    "\n",
    "result = list_tuple(l1=list_1, l2=list_2)\n",
    "\n",
    "display(result)\n"
   ]
  },
  {
   "cell_type": "markdown",
   "metadata": {},
   "source": [
    "**Challenge 5**: Create a function that takes a sentence (string) and returns a list of the lengths of each word in the sentence.  \n",
    "Use list comprehension to split the sentence and calculate the lengths.  \n"
   ]
  },
  {
   "cell_type": "code",
   "execution_count": null,
   "metadata": {},
   "outputs": [
    {
     "name": "stdout",
     "output_type": "stream",
     "text": [
      "[1, 2, 8, 3, 4, 5, 4, 4]\n"
     ]
    }
   ],
   "source": [
    "def length_of_each_word(words: list[str]) -> list[int]:\n",
    "    return [len(word) for word in words[0].split()]\n",
    "\n",
    "my_sentence = [\"i am learning the full stack boot camp\"]\n",
    "\n",
    "result = length_of_each_word(words=my_sentence)\n",
    "\n",
    "print(result)"
   ]
  },
  {
   "cell_type": "markdown",
   "metadata": {},
   "source": [
    "**Challenge 6**: Define a function that filters out words from a list that do not start with a vowel.  \n",
    "Use list comprehension and a helper function that checks if a word starts with a vowel.  "
   ]
  },
  {
   "cell_type": "code",
   "execution_count": 22,
   "metadata": {},
   "outputs": [
    {
     "data": {
      "text/plain": [
       "['yonas', 'robel', 'teame']"
      ]
     },
     "metadata": {},
     "output_type": "display_data"
    }
   ],
   "source": [
    "\n",
    "list_words = [\"amanuel\", \"yonas\", \"awet\", \"robel\", \"teame\"]\n",
    "\n",
    "def words_without_vowels(words: list[str]) -> list[str]:\n",
    "    return [word for word in words if  word[0] not in vowels ]\n",
    "\n",
    "vowels = \"aeiou\"\n",
    "\n",
    "result = words_without_vowels(words=list_words)\n",
    "\n",
    "display(result)"
   ]
  },
  {
   "cell_type": "markdown",
   "metadata": {},
   "source": [
    "\n",
    "**Challenge 7**: Write a function that takes a list of numbers and returns a list of booleans indicating whether each number is greater than 10.  \n",
    "Use list comprehension for this task.  "
   ]
  },
  {
   "cell_type": "code",
   "execution_count": 24,
   "metadata": {},
   "outputs": [
    {
     "data": {
      "text/plain": [
       "[False, False, True, False, True, True, True, False, True]"
      ]
     },
     "metadata": {},
     "output_type": "display_data"
    }
   ],
   "source": [
    "list_numbers = [2, 3, 15, 7, 19, 20, 13, 5, 17]\n",
    "\n",
    "def list_of_numbers(numbers: list[int|float]) -> list[bool]:\n",
    "    return [number > 10 for number in numbers]\n",
    "\n",
    "result = list_of_numbers(numbers = list_numbers)\n",
    "\n",
    "display(result)"
   ]
  },
  {
   "cell_type": "markdown",
   "metadata": {},
   "source": [
    "**Challenge 8**: Create a function that takes a list of dictionaries and returns a list of the values for a given key.  \n",
    "Use list comprehension to extract the values.  "
   ]
  },
  {
   "cell_type": "code",
   "execution_count": 25,
   "metadata": {},
   "outputs": [
    {
     "data": {
      "text/plain": [
       "['Alice', 'Bob', 'David']"
      ]
     },
     "metadata": {},
     "output_type": "display_data"
    }
   ],
   "source": [
    "dicts = [{\"name\": \"Alice\", \"age\": 25},\n",
    "        {\"name\": \"Bob\", \"age\": 30},\n",
    "        {\"name\": \"David\", \"age\": 40 }]\n",
    "\n",
    "def extract_values(dicts, key):\n",
    "    return [d[key] for d in dicts if key in d]\n",
    "\n",
    "display(extract_values(dicts, \"name\"))\n",
    "\n"
   ]
  },
  {
   "cell_type": "markdown",
   "metadata": {},
   "source": [
    "**Challenge 9**: Write a function that accepts a list of words and returns a list of the words with their first letter capitalized.  \n",
    "Use list comprehension to achieve this.  "
   ]
  },
  {
   "cell_type": "code",
   "execution_count": null,
   "metadata": {},
   "outputs": [
    {
     "name": "stdout",
     "output_type": "stream",
     "text": [
      "['Hello', 'World', 'Camel', 'Case']\n"
     ]
    }
   ],
   "source": [
    "\n",
    "words = [\"hello\", \"world\", \"camel\", \"case\"]\n",
    "\n",
    "def title_cased_word(some_words: list[str]) -> list[str]:\n",
    "    return [ word.title() for word in some_words]\n",
    "\n",
    "#def capitalize_words(some_words: list[str]) -> list[str]:\n",
    "    #return[word.capitalize() for word in some_words]\n",
    "result = title_cased_word(words)\n",
    "\n",
    "# new_words = []\n",
    "    # for word in words: # \"adam\"\n",
    "    #     first_char_capitalized = word[0].upper() # \"a\" => \"A\"\n",
    "    #     other_chars = word[1:] #\"dam\" \n",
    "    #                  # A, ['d','a', 'm']      \"d\", \"a\",\"m\"\n",
    "    #     all_words = [first_char_capitalized, *other_chars] # [\"A\", \"d\",\"a\", \"m\"]\n",
    "    #     new_words.append(\"\".join(all_words))\n",
    "        \n",
    "    # return new_words\n",
    " \n",
    "    # return [ word.title() for word in words]\n",
    "\n",
    "\n",
    "print(result)"
   ]
  },
  {
   "cell_type": "markdown",
   "metadata": {},
   "source": [
    "**Challenge 10**: Write a function that returns the common elements between two lists.  \n",
    "Use list comprehension and the \"in\" operator to find common elements.  "
   ]
  },
  {
   "cell_type": "code",
   "execution_count": null,
   "metadata": {},
   "outputs": [
    {
     "name": "stdout",
     "output_type": "stream",
     "text": [
      "[2, 3, 5, 6, 7]\n"
     ]
    }
   ],
   "source": [
    "list1 = [1, 2, 3, 4, 5, 6,7]\n",
    "list2 = [2, 3, 5, 6, 7, 8, 9]\n",
    "\n",
    "def common_elements(l1: list[any], l2: list[any]) -> list[any]:\n",
    "    return [elem for elem in l1 if elem in l2]\n",
    "   #some_set_1 = set(some_list_1)\n",
    "   #some_set_2 = set(some_list_2)\n",
    "   #return [element for element in some_list_1 if element in some_list_2]\n",
    "result = common_elements(list1, list2)\n",
    "print(result)"
   ]
  }
 ],
 "metadata": {
  "kernelspec": {
   "display_name": "Python 3",
   "language": "python",
   "name": "python3"
  },
  "language_info": {
   "codemirror_mode": {
    "name": "ipython",
    "version": 3
   },
   "file_extension": ".py",
   "mimetype": "text/x-python",
   "name": "python",
   "nbconvert_exporter": "python",
   "pygments_lexer": "ipython3",
   "version": "3.13.0"
  }
 },
 "nbformat": 4,
 "nbformat_minor": 2
}
